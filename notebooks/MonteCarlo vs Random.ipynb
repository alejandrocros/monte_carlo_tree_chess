{
 "cells": [
  {
   "cell_type": "code",
   "execution_count": 5,
   "id": "c12049b4",
   "metadata": {},
   "outputs": [],
   "source": [
    "from time import time\n",
    "from chess import Board\n",
    "\n",
    "from mctchess.game.game import Game\n",
    "from mctchess.players import Player\n",
    "from mctchess.players.minimax_player import MiniMaxPlayer\n",
    "from mctchess.players.random_player import RandomPlayer\n",
    "from mctchess.players.monte_carlo_player import MCPlayer"
   ]
  },
  {
   "cell_type": "code",
   "execution_count": 30,
   "id": "22a18d58",
   "metadata": {},
   "outputs": [],
   "source": [
    "def test_n_games(p1: Player, p2: Player, n_games: int, verbose: bool = False) -> list:\n",
    "    t0 = time()\n",
    "    results = list()\n",
    "    for i in range(n_games):\n",
    "        board = Board()\n",
    "        game = (\n",
    "            Game(p1, p2, board, verbose=False)\n",
    "            if i % 2 == 0\n",
    "            else Game(p2, p1, board, verbose=False)\n",
    "        )\n",
    "        game.play_game()\n",
    "        outcome = board.outcome().winner\n",
    "        if outcome is None:\n",
    "            winner = \"tie\"\n",
    "        elif i % 2 == 0 and outcome is True:\n",
    "            winner = \"p1\"\n",
    "        else:\n",
    "            winner = \"p2\"\n",
    "        if verbose and (i + 1) % 2 == 0:\n",
    "            print(f\"Finished {i} games in {(time() - t0) / 60:.2f} mins\")\n",
    "            print(\n",
    "                f\"\\nPlayer 1: {results.count('p1')}\\nTied games: {results.count('tie')}\\nPlayer 2: {results.count('p2')}\"\n",
    "            )\n",
    "        results.append(winner)\n",
    "    if verbose:\n",
    "        print(f\"Finished in {(time() - t0)/60:.3f} mins\")\n",
    "        print(\n",
    "                f\"\\nFinal Stats:\\n\\tPlayer 1: {results.count('p1')}\\n\\tTied games: {results.count('tie')}\\n\\tPlayer 2: {results.count('p2')}\"\n",
    "            )\n",
    "    return results\n"
   ]
  },
  {
   "cell_type": "code",
   "execution_count": 31,
   "id": "a8d56543",
   "metadata": {},
   "outputs": [],
   "source": [
    "p1 = MiniMaxPlayer(depth=3, add_mobility=False, ab_pruning=True)\n",
    "p2 = RandomPlayer()\n",
    "p3 = MCPlayer(n_simulations=20, no_pools=1)"
   ]
  },
  {
   "cell_type": "code",
   "execution_count": null,
   "id": "4e793faf",
   "metadata": {},
   "outputs": [
    {
     "name": "stdout",
     "output_type": "stream",
     "text": [
      "Finished with 1 games in 36.102 mins\n",
      "\n",
      "Player 1: 1\n",
      "Tied games: 0\n",
      "Player 2: 0\n",
      "Finished with 3 games in 149.076 mins\n",
      "\n",
      "Player 1: 2\n",
      "Tied games: 0\n",
      "Player 2: 1\n"
     ]
    }
   ],
   "source": [
    "results = test_n_games(p3, p2, n_games=10, verbose=True)"
   ]
  },
  {
   "cell_type": "code",
   "execution_count": null,
   "id": "2235592c",
   "metadata": {},
   "outputs": [],
   "source": []
  }
 ],
 "metadata": {
  "kernelspec": {
   "display_name": "Python 3",
   "language": "python",
   "name": "python3"
  },
  "language_info": {
   "codemirror_mode": {
    "name": "ipython",
    "version": 3
   },
   "file_extension": ".py",
   "mimetype": "text/x-python",
   "name": "python",
   "nbconvert_exporter": "python",
   "pygments_lexer": "ipython3",
   "version": "3.8.6"
  }
 },
 "nbformat": 4,
 "nbformat_minor": 5
}
